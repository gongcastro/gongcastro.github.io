{
  "cells": [
    {
      "cell_type": "raw",
      "metadata": {},
      "source": [
        "---\n",
        "title: \"Language, statistics, R\"\n",
        "title-block-banner: false\n",
        "links:\n",
        "  - icon: twitter text-danger\n",
        "    text: twitter\n",
        "    href: https://twitter.com/gongcastro\n",
        "  - icon: github\n",
        "    text: Github\n",
        "    href: https://github.com/gongcastro\n",
        "  - icon: mastodon \n",
        "    href: https://fediscience.org/@gongcastro\n",
        "    text: Mastodon\n",
        "  - icon: linkedin \n",
        "    href: https://www.linkedin.com/in/gongcastro/\n",
        "    text: LinkedIn\n",
        "\n",
        "listing:\n",
        "  contents: posts\n",
        "  type: grid\n",
        "  sort:\n",
        "    - \"date desc\"\n",
        "toc: false\n",
        "---"
      ],
      "id": "a87df78c"
    },
    {
      "cell_type": "markdown",
      "metadata": {},
      "source": [
        "<br>\n",
        "\n",
        "\n",
        "```{css echo=FALSE}\n",
        ".column {\n",
        "text-align: center;\n",
        "}\n",
        "```\n",
        "\n",
        "\n",
        "\n",
        "::: {.column width=\"50%\"}\n",
        "\n",
        "## Blog\n",
        "\n",
        ":::"
      ],
      "id": "530a5bc3"
    }
  ],
  "metadata": {
    "kernelspec": {
      "name": "firstenv",
      "language": "python",
      "display_name": "firstEnv"
    }
  },
  "nbformat": 4,
  "nbformat_minor": 5
}